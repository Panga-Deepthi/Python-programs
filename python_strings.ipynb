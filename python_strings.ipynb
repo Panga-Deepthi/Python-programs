{
 "cells": [
  {
   "cell_type": "code",
   "execution_count": 1,
   "id": "47e042dd",
   "metadata": {},
   "outputs": [
    {
     "data": {
      "text/plain": [
       "'single quotes'"
      ]
     },
     "execution_count": 1,
     "metadata": {},
     "output_type": "execute_result"
    }
   ],
   "source": [
    "str1='single quotes'\n",
    "str1"
   ]
  },
  {
   "cell_type": "code",
   "execution_count": 2,
   "id": "4074e15d",
   "metadata": {},
   "outputs": [
    {
     "data": {
      "text/plain": [
       "'double quotes'"
      ]
     },
     "execution_count": 2,
     "metadata": {},
     "output_type": "execute_result"
    }
   ],
   "source": [
    "str2=\"double quotes\"\n",
    "str2"
   ]
  },
  {
   "cell_type": "code",
   "execution_count": 18,
   "id": "0be57a4d",
   "metadata": {},
   "outputs": [
    {
     "name": "stdout",
     "output_type": "stream",
     "text": [
      "triple\n",
      "quotes\n",
      "\n"
     ]
    }
   ],
   "source": [
    "str3='''triple\n",
    "quotes\n",
    "'''\n",
    "print(str3)\n"
   ]
  },
  {
   "cell_type": "code",
   "execution_count": 21,
   "id": "f4b7ebed",
   "metadata": {},
   "outputs": [
    {
     "name": "stdout",
     "output_type": "stream",
     "text": [
      "multi\n",
      "    line\n",
      "\n"
     ]
    }
   ],
   "source": [
    "str4=\"\"\"multi\n",
    "    line\n",
    "\"\"\"\n",
    "print(str4)\n"
   ]
  },
  {
   "cell_type": "code",
   "execution_count": 26,
   "id": "5ba5e30f",
   "metadata": {},
   "outputs": [
    {
     "name": "stdout",
     "output_type": "stream",
     "text": [
      "Hi,\"Deepthi\"\n"
     ]
    }
   ],
   "source": [
    "str5='Hi,\"Deepthi\"'\n",
    "print(str5)"
   ]
  },
  {
   "cell_type": "code",
   "execution_count": 27,
   "id": "458a7599",
   "metadata": {},
   "outputs": [
    {
     "name": "stdout",
     "output_type": "stream",
     "text": [
      "It's a beautiful day\n"
     ]
    }
   ],
   "source": [
    "str6=\"It's a beautiful day\"\n",
    "print(str6)"
   ]
  },
  {
   "cell_type": "code",
   "execution_count": 28,
   "id": "bddbde96",
   "metadata": {},
   "outputs": [
    {
     "name": "stdout",
     "output_type": "stream",
     "text": [
      "hello\t world\n"
     ]
    }
   ],
   "source": [
    "str7=\"hello\\t world\"\n",
    "print(str7)"
   ]
  },
  {
   "cell_type": "code",
   "execution_count": 30,
   "id": "7c05415e",
   "metadata": {},
   "outputs": [
    {
     "name": "stdout",
     "output_type": "stream",
     "text": [
      "hello\n",
      " world\n"
     ]
    }
   ],
   "source": [
    "str8=\"hello\\n world\"\n",
    "print(str8)"
   ]
  },
  {
   "cell_type": "code",
   "execution_count": 35,
   "id": "56bac27d",
   "metadata": {},
   "outputs": [
    {
     "name": "stdout",
     "output_type": "stream",
     "text": [
      "She said, \"It's a beautiful day!\"\n"
     ]
    }
   ],
   "source": [
    "escaped_quotes_string = \"She said, \\\"It's a beautiful day!\\\"\"\n",
    "print(escaped_quotes_string)"
   ]
  },
  {
   "cell_type": "code",
   "execution_count": 36,
   "id": "95582ed8",
   "metadata": {},
   "outputs": [
    {
     "name": "stdout",
     "output_type": "stream",
     "text": [
      "hello\t worldhello\n",
      " world\n"
     ]
    }
   ],
   "source": [
    "print(str7+str8)"
   ]
  },
  {
   "cell_type": "code",
   "execution_count": 37,
   "id": "5ec906c2",
   "metadata": {},
   "outputs": [
    {
     "name": "stdout",
     "output_type": "stream",
     "text": [
      "hellogoodmorning\n"
     ]
    }
   ],
   "source": [
    "str9=\"hello\"\\\n",
    "\"good\"\\\n",
    "\"morning\"\n",
    "print(str9)"
   ]
  },
  {
   "cell_type": "code",
   "execution_count": 54,
   "id": "33e64a89",
   "metadata": {},
   "outputs": [
    {
     "name": "stdout",
     "output_type": "stream",
     "text": [
      "name:samdhya,age:21\n"
     ]
    }
   ],
   "source": [
    "name=\"samdhya\"\n",
    "rollno=71\n",
    "output=\"name:{},age:{}\".format(name,age)\n",
    "print(output)"
   ]
  },
  {
   "cell_type": "code",
   "execution_count": 56,
   "id": "1b86a5c9",
   "metadata": {},
   "outputs": [
    {
     "name": "stdout",
     "output_type": "stream",
     "text": [
      "name=deepthi,age=21\n"
     ]
    }
   ],
   "source": [
    "name=\"deepthi\"\n",
    "age=21\n",
    "output=\"name=%s,age=%d\" %(name,age)\n",
    "print(output)"
   ]
  },
  {
   "cell_type": "code",
   "execution_count": 57,
   "id": "c2cad504",
   "metadata": {},
   "outputs": [
    {
     "name": "stdout",
     "output_type": "stream",
     "text": [
      "name:deepthi,age:21\n"
     ]
    }
   ],
   "source": [
    "op=f\"name:{name},age:{age}\"\n",
    "print(op)"
   ]
  },
  {
   "cell_type": "code",
   "execution_count": 65,
   "id": "9c244c8a",
   "metadata": {},
   "outputs": [
    {
     "data": {
      "text/plain": [
       "'l'"
      ]
     },
     "execution_count": 65,
     "metadata": {},
     "output_type": "execute_result"
    }
   ],
   "source": [
    "str=\"hi hello good morning\"\n",
    "str[6]\n"
   ]
  },
  {
   "cell_type": "code",
   "execution_count": 69,
   "id": "fbd014c1",
   "metadata": {},
   "outputs": [
    {
     "data": {
      "text/plain": [
       "'ello good morning'"
      ]
     },
     "execution_count": 69,
     "metadata": {},
     "output_type": "execute_result"
    }
   ],
   "source": [
    "str[4:]\n"
   ]
  },
  {
   "cell_type": "code",
   "execution_count": 70,
   "id": "f7033e60",
   "metadata": {},
   "outputs": [
    {
     "data": {
      "text/plain": [
       "'hi hell'"
      ]
     },
     "execution_count": 70,
     "metadata": {},
     "output_type": "execute_result"
    }
   ],
   "source": [
    "str[:7]"
   ]
  },
  {
   "cell_type": "code",
   "execution_count": 71,
   "id": "96e3a42a",
   "metadata": {},
   "outputs": [
    {
     "data": {
      "text/plain": [
       "'h el odmrig'"
      ]
     },
     "execution_count": 71,
     "metadata": {},
     "output_type": "execute_result"
    }
   ],
   "source": [
    "str[::2]"
   ]
  },
  {
   "cell_type": "code",
   "execution_count": 72,
   "id": "5fe8de59",
   "metadata": {},
   "outputs": [
    {
     "name": "stdout",
     "output_type": "stream",
     "text": [
      "h\n",
      "i\n",
      " \n",
      "h\n",
      "e\n",
      "l\n",
      "l\n",
      "o\n",
      " \n",
      "g\n",
      "o\n",
      "o\n",
      "d\n",
      " \n",
      "m\n",
      "o\n",
      "r\n",
      "n\n",
      "i\n",
      "n\n",
      "g\n"
     ]
    }
   ],
   "source": [
    "for i in str:\n",
    "    print(i)"
   ]
  },
  {
   "cell_type": "code",
   "execution_count": 74,
   "id": "8a742899",
   "metadata": {},
   "outputs": [
    {
     "name": "stdout",
     "output_type": "stream",
     "text": [
      "21\n"
     ]
    }
   ],
   "source": [
    "print(len(str))"
   ]
  },
  {
   "cell_type": "code",
   "execution_count": 75,
   "id": "bba520c3",
   "metadata": {},
   "outputs": [
    {
     "name": "stdout",
     "output_type": "stream",
     "text": [
      "HI HELLO GOOD MORNING\n"
     ]
    }
   ],
   "source": [
    "#methods\n",
    "upper_case=str.upper()\n",
    "print(upper_case)"
   ]
  },
  {
   "cell_type": "code",
   "execution_count": 78,
   "id": "b8765f1c",
   "metadata": {},
   "outputs": [
    {
     "name": "stdout",
     "output_type": "stream",
     "text": [
      "hi hello good morning\n"
     ]
    }
   ],
   "source": [
    "lower_case=upper_case.lower()\n",
    "print(lower_case)"
   ]
  },
  {
   "cell_type": "code",
   "execution_count": 82,
   "id": "5a30f352",
   "metadata": {},
   "outputs": [
    {
     "data": {
      "text/plain": [
       "'hai hello good morning'"
      ]
     },
     "execution_count": 82,
     "metadata": {},
     "output_type": "execute_result"
    }
   ],
   "source": [
    "str\n",
    "str.replace(\"hi\",\"hai\")"
   ]
  },
  {
   "cell_type": "code",
   "execution_count": 83,
   "id": "e1fe2d19",
   "metadata": {},
   "outputs": [
    {
     "data": {
      "text/plain": [
       "['hi', 'hello', 'good', 'morning']"
      ]
     },
     "execution_count": 83,
     "metadata": {},
     "output_type": "execute_result"
    }
   ],
   "source": [
    "str.split()"
   ]
  },
  {
   "cell_type": "code",
   "execution_count": 89,
   "id": "f808dab8",
   "metadata": {},
   "outputs": [
    {
     "name": "stdout",
     "output_type": "stream",
     "text": [
      "hai*hello*good*afternoon\n"
     ]
    }
   ],
   "source": [
    "s1=[\"hai\",\"hello\",\"good\",\"afternoon\"]\n",
    "print(\"*\".join(s1))"
   ]
  },
  {
   "cell_type": "code",
   "execution_count": 91,
   "id": "03319e20",
   "metadata": {},
   "outputs": [
    {
     "data": {
      "text/plain": [
       "9"
      ]
     },
     "execution_count": 91,
     "metadata": {},
     "output_type": "execute_result"
    }
   ],
   "source": [
    "str.find('good')"
   ]
  },
  {
   "cell_type": "code",
   "execution_count": 92,
   "id": "d11f624f",
   "metadata": {},
   "outputs": [
    {
     "data": {
      "text/plain": [
       "9"
      ]
     },
     "execution_count": 92,
     "metadata": {},
     "output_type": "execute_result"
    }
   ],
   "source": [
    "str.index('good')"
   ]
  },
  {
   "cell_type": "code",
   "execution_count": 109,
   "id": "5a690dc2",
   "metadata": {},
   "outputs": [
    {
     "name": "stdout",
     "output_type": "stream",
     "text": [
      "False\n"
     ]
    }
   ],
   "source": [
    "\n",
    "print(str1==str6)"
   ]
  },
  {
   "cell_type": "code",
   "execution_count": null,
   "id": "62f94ba3",
   "metadata": {},
   "outputs": [],
   "source": []
  },
  {
   "cell_type": "code",
   "execution_count": null,
   "id": "5e3d5c63",
   "metadata": {},
   "outputs": [],
   "source": []
  }
 ],
 "metadata": {
  "kernelspec": {
   "display_name": "Python 3 (ipykernel)",
   "language": "python",
   "name": "python3"
  },
  "language_info": {
   "codemirror_mode": {
    "name": "ipython",
    "version": 3
   },
   "file_extension": ".py",
   "mimetype": "text/x-python",
   "name": "python",
   "nbconvert_exporter": "python",
   "pygments_lexer": "ipython3",
   "version": "3.10.12"
  }
 },
 "nbformat": 4,
 "nbformat_minor": 5
}
